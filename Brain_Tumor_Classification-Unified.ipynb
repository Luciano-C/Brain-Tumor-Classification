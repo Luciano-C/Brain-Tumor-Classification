{
 "cells": [
  {
   "cell_type": "code",
   "execution_count": 39,
   "id": "2462d890-c1ac-4555-82c2-a91e0123d65a",
   "metadata": {},
   "outputs": [],
   "source": [
    "import pandas as pd\n",
    "import numpy as np\n",
    "import tensorflow as tf\n",
    "from tensorflow import keras\n",
    "from tensorflow.keras import layers, models\n",
    "from tensorflow.keras.preprocessing.image import ImageDataGenerator\n",
    "from tensorflow.keras.preprocessing import image\n",
    "from PIL import Image\n",
    "import os\n",
    "import shutil\n",
    "from sklearn.utils.class_weight import compute_class_weight\n",
    "from tensorflow.keras.callbacks import EarlyStopping\n",
    "from sklearn.metrics import confusion_matrix, classification_report\n",
    "import matplotlib.pyplot as plt\n",
    "import seaborn as sns"
   ]
  },
  {
   "cell_type": "code",
   "execution_count": 2,
   "id": "e3af3fec-e383-4385-884b-7c80ea46b492",
   "metadata": {},
   "outputs": [
    {
     "name": "stdout",
     "output_type": "stream",
     "text": [
      "Number of images in each class (Training data):\n",
      "glioma_tumor: 926\n",
      "meningioma_tumor: 937\n",
      "no_tumor: 500\n",
      "pituitary_tumor: 901\n"
     ]
    }
   ],
   "source": [
    "# Define the path to the data\n",
    "data_path = 'data/Unified'\n",
    "\n",
    "# List the subfolders in the training data folder\n",
    "subfolders = os.listdir(data_path)\n",
    "\n",
    "# Initialize a dictionary to hold the count of images in each subfolder\n",
    "image_counts_data = {}\n",
    "\n",
    "# Count the number of images in each subfolder\n",
    "for subfolder in subfolders:\n",
    "    subfolder_path = os.path.join(data_path, subfolder)\n",
    "    if os.path.isdir(subfolder_path):\n",
    "        num_images = len(os.listdir(subfolder_path))\n",
    "        image_counts_data[subfolder] = num_images\n",
    "\n",
    "# Display the results\n",
    "print(\"Number of images in each class:\")\n",
    "for subfolder, count in image_counts_data.items():\n",
    "    print(f\"{subfolder}: {count}\")"
   ]
  },
  {
   "cell_type": "code",
   "execution_count": 3,
   "id": "f5b4ee5d-66c9-4bac-8b97-a859315facb3",
   "metadata": {},
   "outputs": [
    {
     "name": "stdout",
     "output_type": "stream",
     "text": [
      "Augmented images already exist. Skipping augmentation.\n"
     ]
    }
   ],
   "source": [
    "# Paths\n",
    "original_training_data_path = 'data/Unified'\n",
    "augmented_training_data_path = 'data/Augmented'\n",
    "\n",
    "# Initialize ImageDataGenerator with augmentation parameters\n",
    "datagen = ImageDataGenerator(\n",
    "    rotation_range=40,\n",
    "    width_shift_range=0.2,\n",
    "    height_shift_range=0.2,\n",
    "    shear_range=0.2,\n",
    "    zoom_range=0.2,\n",
    "    horizontal_flip=True,\n",
    "    fill_mode='nearest'\n",
    ")\n",
    "\n",
    "# Function to augment images of a specific class\n",
    "def augment_images(class_name, target_count):\n",
    "    class_path = os.path.join(original_training_data_path, class_name)\n",
    "    augmented_class_path = os.path.join(augmented_training_data_path, class_name)\n",
    "    \n",
    "    # Create subfolder in augmented_training if it doesn't exist\n",
    "    if not os.path.exists(augmented_class_path):\n",
    "        os.makedirs(augmented_class_path)\n",
    "    \n",
    "    # List existing images\n",
    "    existing_images = os.listdir(class_path)\n",
    "    existing_count = len(existing_images)\n",
    "    \n",
    "    # Copy existing images to augmented_training\n",
    "    for image_name in existing_images:\n",
    "        src_path = os.path.join(class_path, image_name)\n",
    "        dst_path = os.path.join(augmented_class_path, image_name)\n",
    "        if not os.path.exists(dst_path):  # Check if image already exists in destination\n",
    "            shutil.copy(src_path, dst_path)\n",
    "    \n",
    "    # Start augmentation until target_count is reached\n",
    "    for i in range(target_count - existing_count):\n",
    "        # Randomly select an image to augment\n",
    "        image_name = np.random.choice(existing_images)\n",
    "        image_path = os.path.join(class_path, image_name)\n",
    "        img = image.load_img(image_path, target_size=(128, 128))\n",
    "        \n",
    "        # Convert to numpy array and add batch dimension\n",
    "        x = image.img_to_array(img)\n",
    "        x = np.expand_dims(x, axis=0)\n",
    "        \n",
    "        # Generate augmented image\n",
    "        augmented_images = next(datagen.flow(x, batch_size=1))\n",
    "        augmented_image = image.array_to_img(augmented_images[0])\n",
    "        \n",
    "        # Save augmented image\n",
    "        save_path = os.path.join(augmented_class_path, f\"aug_{i}_{image_name}\")\n",
    "        augmented_image.save(save_path)\n",
    "\n",
    "# Function to copy images of a specific class\n",
    "def copy_images(class_name):\n",
    "    class_path = os.path.join(original_training_data_path, class_name)\n",
    "    augmented_class_path = os.path.join(augmented_training_data_path, class_name)\n",
    "    \n",
    "    # Create subfolder in augmented_training if it doesn't exist\n",
    "    if not os.path.exists(augmented_class_path):\n",
    "        os.makedirs(augmented_class_path)\n",
    "    \n",
    "    # List existing images\n",
    "    existing_images = os.listdir(class_path)\n",
    "    \n",
    "    # Copy existing images to augmented_training\n",
    "    for image_name in existing_images:\n",
    "        src_path = os.path.join(class_path, image_name)\n",
    "        dst_path = os.path.join(augmented_class_path, image_name)\n",
    "        if not os.path.exists(dst_path):  # Check if image already exists in destination\n",
    "            shutil.copy(src_path, dst_path)\n",
    "\n",
    "# Get the number of images in each class in the original training data\n",
    "image_counts = {class_name: len(os.listdir(os.path.join(original_training_data_path, class_name))) \n",
    "                for class_name in os.listdir(original_training_data_path) \n",
    "                if os.path.isdir(os.path.join(original_training_data_path, class_name))}\n",
    "\n",
    "# Find the class with the maximum number of images\n",
    "max_count = max(image_counts.values())\n",
    "\n",
    "# Check if augmentation for 'no_tumor' is needed\n",
    "augmented_no_tumor_path = os.path.join(augmented_training_data_path, 'no_tumor')\n",
    "if not os.path.exists(augmented_no_tumor_path) or len(os.listdir(augmented_no_tumor_path)) < max_count:\n",
    "    # Create augmented_training folder if it doesn't exist\n",
    "    if not os.path.exists(augmented_training_data_path):\n",
    "        os.makedirs(augmented_training_data_path)\n",
    "    \n",
    "    augment_images('no_tumor', max_count)\n",
    "else:\n",
    "    print(\"Augmented images already exist. Skipping augmentation.\")\n",
    "\n",
    "# Copy all original training images to augmented_training\n",
    "for class_name in image_counts.keys():\n",
    "    if class_name != 'no_tumor':  # We've already handled no_tumor\n",
    "        copy_images(class_name)"
   ]
  },
  {
   "cell_type": "code",
   "execution_count": 20,
   "id": "89829636-fce8-477c-9d1d-965f16f800b1",
   "metadata": {},
   "outputs": [
    {
     "name": "stdout",
     "output_type": "stream",
     "text": [
      "Number of images in each class after data augmentation:\n",
      "glioma_tumor: 926\n",
      "meningioma_tumor: 937\n",
      "no_tumor: 937\n",
      "pituitary_tumor: 901\n"
     ]
    }
   ],
   "source": [
    "# Define the path to the data\n",
    "data_path = 'data/Augmented'\n",
    "\n",
    "# List the subfolders in the training data folder\n",
    "subfolders = os.listdir(data_path)\n",
    "\n",
    "# Initialize a dictionary to hold the count of images in each subfolder\n",
    "image_counts_data = {}\n",
    "\n",
    "# Count the number of images in each subfolder\n",
    "for subfolder in subfolders:\n",
    "    subfolder_path = os.path.join(data_path, subfolder)\n",
    "    if os.path.isdir(subfolder_path):\n",
    "        num_images = len(os.listdir(subfolder_path))\n",
    "        image_counts_data[subfolder] = num_images\n",
    "\n",
    "# Display the results\n",
    "print(\"Number of images in each class after data augmentation:\")\n",
    "for subfolder, count in image_counts_data.items():\n",
    "    print(f\"{subfolder}: {count}\")"
   ]
  },
  {
   "cell_type": "markdown",
   "id": "8cc446df-cbb5-4559-97c2-7aa75451eb4e",
   "metadata": {},
   "source": [
    "## Calculating class weights"
   ]
  },
  {
   "cell_type": "code",
   "execution_count": 4,
   "id": "4cda7e33-f063-4661-b8b2-a5b87847a468",
   "metadata": {},
   "outputs": [
    {
     "name": "stdout",
     "output_type": "stream",
     "text": [
      "Class Weights: {'glioma_tumor': 0.8812095032397408, 'meningioma_tumor': 0.8708644610458911, 'no_tumor': 1.632, 'pituitary_tumor': 0.9056603773584906}\n"
     ]
    }
   ],
   "source": [
    "# Classes\n",
    "classes = list(image_counts.keys())\n",
    "\n",
    "# Number of samples in each class\n",
    "samples_per_class = [image_counts[cls] for cls in classes]\n",
    "\n",
    "# Calculate class weights\n",
    "class_weights = compute_class_weight('balanced', classes=np.unique(classes), y=[cls for cls in classes for _ in range(image_counts[cls])])\n",
    "class_weight_dict = dict(zip(classes, class_weights))\n",
    "\n",
    "print(\"Class Weights:\", class_weight_dict)"
   ]
  },
  {
   "cell_type": "markdown",
   "id": "2a39fdaa-8310-46e3-97bc-995feb1dbffc",
   "metadata": {},
   "source": [
    "## Neural Networks"
   ]
  },
  {
   "cell_type": "code",
   "execution_count": 5,
   "id": "12930136-53f3-4007-b082-5de71e795e3e",
   "metadata": {},
   "outputs": [],
   "source": [
    "# Image dimensions\n",
    "img_height, img_width = 128, 128\n",
    "batch_size = 32"
   ]
  },
  {
   "cell_type": "code",
   "execution_count": 6,
   "id": "1d63cb27-05b0-47d8-8251-c7a1e0c5a410",
   "metadata": {},
   "outputs": [],
   "source": [
    "datagen = ImageDataGenerator(\n",
    "    rescale=1./255,\n",
    "    rotation_range=40,\n",
    "    width_shift_range=0.2,\n",
    "    height_shift_range=0.2,\n",
    "    shear_range=0.2,\n",
    "    zoom_range=0.2,\n",
    "    horizontal_flip=True,\n",
    "    fill_mode='nearest',\n",
    "    validation_split=0.2  # set the validation split\n",
    ")"
   ]
  },
  {
   "cell_type": "code",
   "execution_count": 7,
   "id": "498b93a7-2c75-4ba0-9d37-7b52903dd9f4",
   "metadata": {},
   "outputs": [
    {
     "name": "stdout",
     "output_type": "stream",
     "text": [
      "Found 2612 images belonging to 4 classes.\n",
      "Found 652 images belonging to 4 classes.\n"
     ]
    }
   ],
   "source": [
    "train_generator = datagen.flow_from_directory(\n",
    "    data_path,\n",
    "    target_size=(128, 128),\n",
    "    batch_size=32,\n",
    "    class_mode='categorical',\n",
    "    subset='training'  # set as training data\n",
    ")\n",
    "\n",
    "validation_generator = datagen.flow_from_directory(\n",
    "    data_path,\n",
    "    target_size=(128, 128),\n",
    "    batch_size=32,\n",
    "    class_mode='categorical',\n",
    "    subset='validation'  # set as validation data\n",
    ")"
   ]
  },
  {
   "cell_type": "code",
   "execution_count": 8,
   "id": "274b01ea-f198-4289-8e45-e35c3c46f6bf",
   "metadata": {},
   "outputs": [
    {
     "name": "stdout",
     "output_type": "stream",
     "text": [
      "82\n"
     ]
    }
   ],
   "source": [
    "print(len(train_generator))"
   ]
  },
  {
   "cell_type": "code",
   "execution_count": 9,
   "id": "4aec3b8c-ff49-470b-ad73-122a7c4e5dec",
   "metadata": {},
   "outputs": [
    {
     "name": "stdout",
     "output_type": "stream",
     "text": [
      "Label: [0. 1. 0. 0.]\n"
     ]
    }
   ],
   "source": [
    "# Get a batch of images and labels\n",
    "images, labels = train_generator[0]\n",
    "\n",
    "# Get the first image and label from the batch\n",
    "first_image = images[0]\n",
    "first_label = labels[0]\n",
    "\n",
    "# Convert the image array to a Pillow Image\n",
    "first_image = Image.fromarray((first_image * 255).astype('uint8'))\n",
    "\n",
    "# Show the image\n",
    "#first_image.show()\n",
    "\n",
    "# Print the label\n",
    "print(f'Label: {first_label}')\n"
   ]
  },
  {
   "cell_type": "code",
   "execution_count": 10,
   "id": "cc23d26c-6c9a-4df6-9e4c-a7a1dc846bfa",
   "metadata": {},
   "outputs": [
    {
     "name": "stdout",
     "output_type": "stream",
     "text": [
      "Image Shape: (128, 128, 3)\n",
      "Number of Batches per Epoch: 82\n",
      "Total Number of Samples: 2612\n",
      "Batch Size: 32\n"
     ]
    }
   ],
   "source": [
    "# Get the shape of the images\n",
    "image_shape = train_generator.image_shape\n",
    "print(f'Image Shape: {image_shape}')\n",
    "\n",
    "# Get the number of batches per epoch\n",
    "num_batches = len(train_generator)\n",
    "print(f'Number of Batches per Epoch: {num_batches}')\n",
    "\n",
    "# Get the total number of samples\n",
    "num_samples = train_generator.n\n",
    "print(f'Total Number of Samples: {num_samples}')\n",
    "\n",
    "# Get the batch size\n",
    "batch_size = train_generator.batch_size\n",
    "print(f'Batch Size: {batch_size}')"
   ]
  },
  {
   "cell_type": "code",
   "execution_count": 11,
   "id": "f3647118-1119-4e06-a851-2e04713b4ceb",
   "metadata": {},
   "outputs": [
    {
     "name": "stdout",
     "output_type": "stream",
     "text": [
      "[[[0.         0.         0.        ]\n",
      "  [0.         0.         0.        ]\n",
      "  [0.         0.         0.        ]\n",
      "  ...\n",
      "  [0.00113512 0.00113512 0.00113512]\n",
      "  [0.         0.         0.        ]\n",
      "  [0.         0.         0.        ]]\n",
      "\n",
      " [[0.         0.         0.        ]\n",
      "  [0.         0.         0.        ]\n",
      "  [0.         0.         0.        ]\n",
      "  ...\n",
      "  [0.00431758 0.00431758 0.00431758]\n",
      "  [0.00266152 0.00266152 0.00266152]\n",
      "  [0.00120347 0.00120347 0.00120347]]\n",
      "\n",
      " [[0.         0.         0.        ]\n",
      "  [0.         0.         0.        ]\n",
      "  [0.         0.         0.        ]\n",
      "  ...\n",
      "  [0.01028649 0.01028649 0.01028649]\n",
      "  [0.00737039 0.00737039 0.00737039]\n",
      "  [0.00463892 0.00463892 0.00463892]]\n",
      "\n",
      " ...\n",
      "\n",
      " [[0.         0.         0.        ]\n",
      "  [0.         0.         0.        ]\n",
      "  [0.         0.         0.        ]\n",
      "  ...\n",
      "  [0.         0.         0.        ]\n",
      "  [0.         0.         0.        ]\n",
      "  [0.         0.         0.        ]]\n",
      "\n",
      " [[0.         0.         0.        ]\n",
      "  [0.         0.         0.        ]\n",
      "  [0.         0.         0.        ]\n",
      "  ...\n",
      "  [0.         0.         0.        ]\n",
      "  [0.         0.         0.        ]\n",
      "  [0.         0.         0.        ]]\n",
      "\n",
      " [[0.         0.         0.        ]\n",
      "  [0.         0.         0.        ]\n",
      "  [0.         0.         0.        ]\n",
      "  ...\n",
      "  [0.         0.         0.        ]\n",
      "  [0.         0.         0.        ]\n",
      "  [0.         0.         0.        ]]]\n"
     ]
    }
   ],
   "source": [
    "sample_image = images[10]\n",
    "print(sample_image)"
   ]
  },
  {
   "cell_type": "markdown",
   "id": "23982f9d-3339-4bc5-aaef-d32efd843299",
   "metadata": {},
   "source": [
    "## Convolutional Neural Network (CNN)"
   ]
  },
  {
   "cell_type": "code",
   "execution_count": 12,
   "id": "cdde6e92-f2ef-42d4-9367-2138d542fba3",
   "metadata": {},
   "outputs": [],
   "source": [
    "# Get the class indices\n",
    "class_indices = train_generator.class_indices\n",
    "\n",
    "# Map class names to class indices\n",
    "class_weight_indices = {class_indices[class_name]: weight for class_name, weight in class_weight_dict.items()}"
   ]
  },
  {
   "cell_type": "code",
   "execution_count": 13,
   "id": "6b9db9ba-b9c9-453e-8136-265086d75a60",
   "metadata": {},
   "outputs": [
    {
     "name": "stdout",
     "output_type": "stream",
     "text": [
      "Epoch 1/10\n",
      "82/82 [==============================] - 25s 299ms/step - loss: 1.4295 - accuracy: 0.3637 - val_loss: 1.3835 - val_accuracy: 0.3190\n",
      "Epoch 2/10\n",
      "82/82 [==============================] - 21s 252ms/step - loss: 1.1870 - accuracy: 0.4870 - val_loss: 1.2459 - val_accuracy: 0.3788\n",
      "Epoch 3/10\n",
      "82/82 [==============================] - 21s 251ms/step - loss: 1.1149 - accuracy: 0.5333 - val_loss: 1.2986 - val_accuracy: 0.3604\n",
      "Epoch 4/10\n",
      "82/82 [==============================] - 21s 257ms/step - loss: 1.0933 - accuracy: 0.5513 - val_loss: 1.3011 - val_accuracy: 0.4248\n",
      "Epoch 5/10\n",
      "82/82 [==============================] - 21s 257ms/step - loss: 1.0696 - accuracy: 0.5647 - val_loss: 1.2309 - val_accuracy: 0.4233\n",
      "Epoch 6/10\n",
      "82/82 [==============================] - 21s 255ms/step - loss: 1.0272 - accuracy: 0.5846 - val_loss: 1.5588 - val_accuracy: 0.3236\n",
      "Epoch 7/10\n",
      "82/82 [==============================] - 21s 260ms/step - loss: 1.0291 - accuracy: 0.5884 - val_loss: 1.2641 - val_accuracy: 0.4049\n",
      "Epoch 8/10\n",
      "82/82 [==============================] - 22s 270ms/step - loss: 1.0196 - accuracy: 0.5869 - val_loss: 1.2897 - val_accuracy: 0.4156\n",
      "Epoch 9/10\n",
      "82/82 [==============================] - 21s 255ms/step - loss: 1.0034 - accuracy: 0.5949 - val_loss: 1.2525 - val_accuracy: 0.4494\n",
      "Epoch 10/10\n",
      "82/82 [==============================] - 21s 261ms/step - loss: 0.9799 - accuracy: 0.6172 - val_loss: 1.3697 - val_accuracy: 0.4494\n"
     ]
    }
   ],
   "source": [
    "# Set random seed\n",
    "tf.random.set_seed(42)\n",
    "\n",
    "# Build the model\n",
    "model_1 = keras.Sequential([\n",
    "    layers.Conv2D(32, (3, 3), activation='relu', input_shape=(128, 128, 3)),\n",
    "    layers.MaxPooling2D((2, 2)),\n",
    "    layers.Flatten(),\n",
    "    layers.Dense(4, activation='softmax')\n",
    "])\n",
    "\n",
    "# Compile the model\n",
    "model_1.compile(optimizer='adam',\n",
    "                loss='categorical_crossentropy',\n",
    "                metrics=['accuracy'])\n",
    "\n",
    "# Train the model\n",
    "history_1 = model_1.fit(train_generator, epochs=10, validation_data=validation_generator, class_weight=class_weight_indices)"
   ]
  },
  {
   "cell_type": "markdown",
   "id": "cbc685d5-6ba9-4f51-a755-2a11234595d4",
   "metadata": {},
   "source": [
    "The accuracy on the train data is much higher than the validation accuracy, so we will try other configurations."
   ]
  },
  {
   "cell_type": "code",
   "execution_count": 14,
   "id": "60028313-9b88-4e61-9000-06ef4e97f3e9",
   "metadata": {},
   "outputs": [
    {
     "name": "stdout",
     "output_type": "stream",
     "text": [
      "Epoch 1/10\n",
      "82/82 [==============================] - 28s 335ms/step - loss: 1.3644 - accuracy: 0.3250 - val_loss: 1.4796 - val_accuracy: 0.2531\n",
      "Epoch 2/10\n",
      "82/82 [==============================] - 26s 322ms/step - loss: 1.1454 - accuracy: 0.4958 - val_loss: 1.3095 - val_accuracy: 0.4080\n",
      "Epoch 3/10\n",
      "82/82 [==============================] - 27s 326ms/step - loss: 1.0419 - accuracy: 0.5701 - val_loss: 1.3390 - val_accuracy: 0.3834\n",
      "Epoch 4/10\n",
      "82/82 [==============================] - 27s 326ms/step - loss: 0.9622 - accuracy: 0.6026 - val_loss: 1.2222 - val_accuracy: 0.4141\n",
      "Epoch 5/10\n",
      "82/82 [==============================] - 27s 325ms/step - loss: 0.9452 - accuracy: 0.6141 - val_loss: 1.3156 - val_accuracy: 0.4202\n",
      "Epoch 6/10\n",
      "82/82 [==============================] - 27s 327ms/step - loss: 0.8944 - accuracy: 0.6340 - val_loss: 1.2543 - val_accuracy: 0.4248\n",
      "Epoch 7/10\n",
      "82/82 [==============================] - 26s 317ms/step - loss: 0.8895 - accuracy: 0.6390 - val_loss: 1.3458 - val_accuracy: 0.4202\n",
      "Epoch 8/10\n",
      "82/82 [==============================] - 27s 323ms/step - loss: 0.8429 - accuracy: 0.6577 - val_loss: 1.3013 - val_accuracy: 0.4233\n",
      "Epoch 9/10\n",
      "82/82 [==============================] - 26s 322ms/step - loss: 0.8073 - accuracy: 0.6650 - val_loss: 1.5439 - val_accuracy: 0.3926\n",
      "Epoch 10/10\n",
      "82/82 [==============================] - 27s 325ms/step - loss: 0.8036 - accuracy: 0.6665 - val_loss: 1.4737 - val_accuracy: 0.3758\n"
     ]
    }
   ],
   "source": [
    "# Set random seed\n",
    "tf.random.set_seed(42)\n",
    "\n",
    "model_2 = keras.Sequential([\n",
    "    # First convolutional block\n",
    "    layers.Conv2D(32, (3, 3), activation='relu', input_shape=(128, 128, 3)),\n",
    "    layers.MaxPooling2D((2, 2)),\n",
    "    # Second convolutional block\n",
    "    layers.Conv2D(64, (3, 3), activation='relu'),\n",
    "    layers.MaxPooling2D((2, 2)),\n",
    "    \n",
    "    layers.Flatten(),\n",
    "    layers.Dense(64, activation='relu'),\n",
    "    layers.Dense(4, activation='softmax')\n",
    "])\n",
    "\n",
    "model_2.compile(optimizer='adam',\n",
    "                loss='categorical_crossentropy',\n",
    "                metrics=['accuracy'])\n",
    "\n",
    "history_2 = model_2.fit(train_generator, epochs=10, validation_data=validation_generator, class_weight=class_weight_indices)"
   ]
  },
  {
   "cell_type": "code",
   "execution_count": 15,
   "id": "c48e5867-ad5d-4a86-9476-fce31da48ed8",
   "metadata": {},
   "outputs": [
    {
     "name": "stdout",
     "output_type": "stream",
     "text": [
      "Epoch 1/10\n",
      "82/82 [==============================] - 30s 344ms/step - loss: 5.1008 - accuracy: 0.3748 - val_loss: 7.1322 - val_accuracy: 0.2761\n",
      "Epoch 2/10\n",
      "82/82 [==============================] - 28s 342ms/step - loss: 6.0232 - accuracy: 0.4146 - val_loss: 17.3816 - val_accuracy: 0.2761\n",
      "Epoch 3/10\n",
      "82/82 [==============================] - 28s 339ms/step - loss: 4.9953 - accuracy: 0.4541 - val_loss: 19.0342 - val_accuracy: 0.2761\n",
      "Epoch 4/10\n",
      "82/82 [==============================] - 28s 338ms/step - loss: 4.4461 - accuracy: 0.4801 - val_loss: 19.8111 - val_accuracy: 0.2776\n"
     ]
    }
   ],
   "source": [
    "# Set random seed\n",
    "tf.random.set_seed(42)\n",
    "# Data augmentation\n",
    "data_augmentation = keras.Sequential([\n",
    "    layers.RandomFlip(\"horizontal\"),\n",
    "    layers.RandomRotation(0.1),\n",
    "])\n",
    "\n",
    "# Build the model\n",
    "model_3 = keras.Sequential([\n",
    "    data_augmentation,\n",
    "    layers.Conv2D(32, (3, 3), activation='relu', input_shape=(128, 128, 3)),\n",
    "    layers.MaxPooling2D((2, 2)),\n",
    "    layers.BatchNormalization(),\n",
    "    layers.Conv2D(64, (3, 3), activation='relu'),\n",
    "    layers.MaxPooling2D((2, 2)),\n",
    "    layers.BatchNormalization(),\n",
    "    layers.Flatten(),\n",
    "    layers.Dropout(0.5),\n",
    "    layers.Dense(4, activation='softmax')\n",
    "])\n",
    "\n",
    "# Compile the model\n",
    "model_3.compile(optimizer='adam',\n",
    "                loss='categorical_crossentropy',\n",
    "                metrics=['accuracy'])\n",
    "\n",
    "# Early stopping\n",
    "early_stopping = EarlyStopping(monitor='val_loss', patience=3)\n",
    "\n",
    "# Train the model\n",
    "history_3 = model_3.fit(\n",
    "    train_generator,\n",
    "    epochs=10,\n",
    "    validation_data=validation_generator,\n",
    "    class_weight=class_weight_indices,\n",
    "    callbacks=[early_stopping]\n",
    ")"
   ]
  },
  {
   "cell_type": "code",
   "execution_count": 16,
   "id": "fd291643-c1ab-4280-9070-d2140c972c62",
   "metadata": {},
   "outputs": [
    {
     "name": "stdout",
     "output_type": "stream",
     "text": [
      "Epoch 1/10\n",
      "82/82 [==============================] - 30s 340ms/step - loss: 1.9265 - accuracy: 0.4089 - val_loss: 1.7362 - val_accuracy: 0.2761\n",
      "Epoch 2/10\n",
      "82/82 [==============================] - 28s 340ms/step - loss: 1.8100 - accuracy: 0.4414 - val_loss: 2.7542 - val_accuracy: 0.2761\n",
      "Epoch 3/10\n",
      "82/82 [==============================] - 28s 337ms/step - loss: 1.7643 - accuracy: 0.4602 - val_loss: 4.0133 - val_accuracy: 0.2761\n",
      "Epoch 4/10\n",
      "82/82 [==============================] - 28s 339ms/step - loss: 1.7579 - accuracy: 0.4713 - val_loss: 4.1010 - val_accuracy: 0.2791\n",
      "Epoch 5/10\n",
      "82/82 [==============================] - 28s 341ms/step - loss: 1.7180 - accuracy: 0.4832 - val_loss: 3.7306 - val_accuracy: 0.3098\n",
      "Epoch 6/10\n",
      "82/82 [==============================] - 28s 340ms/step - loss: 1.5737 - accuracy: 0.5054 - val_loss: 2.6407 - val_accuracy: 0.3298\n",
      "Epoch 7/10\n",
      "82/82 [==============================] - 28s 334ms/step - loss: 1.6311 - accuracy: 0.5203 - val_loss: 2.3437 - val_accuracy: 0.3574\n",
      "Epoch 8/10\n",
      "82/82 [==============================] - 27s 335ms/step - loss: 1.5798 - accuracy: 0.5077 - val_loss: 2.1971 - val_accuracy: 0.3942\n",
      "Epoch 9/10\n",
      "82/82 [==============================] - 28s 337ms/step - loss: 1.4954 - accuracy: 0.5352 - val_loss: 2.3275 - val_accuracy: 0.3819\n",
      "Epoch 10/10\n",
      "82/82 [==============================] - 28s 336ms/step - loss: 1.5374 - accuracy: 0.5276 - val_loss: 2.1909 - val_accuracy: 0.4018\n"
     ]
    }
   ],
   "source": [
    "# Set random seed\n",
    "tf.random.set_seed(42)\n",
    "\n",
    "# Data augmentation\n",
    "data_augmentation = keras.Sequential([\n",
    "    layers.RandomFlip(\"horizontal\"),\n",
    "    layers.RandomRotation(0.1),\n",
    "])\n",
    "\n",
    "# Build the model\n",
    "model_4 = keras.Sequential([\n",
    "    data_augmentation,\n",
    "    layers.Conv2D(32, (3, 3), activation='relu', input_shape=(128, 128, 3)),\n",
    "    layers.MaxPooling2D((2, 2)),\n",
    "    layers.BatchNormalization(),\n",
    "    layers.Conv2D(64, (3, 3), activation='relu'),\n",
    "    layers.MaxPooling2D((2, 2)),\n",
    "    layers.BatchNormalization(),\n",
    "    layers.Flatten(),\n",
    "    layers.Dropout(0.5),\n",
    "    layers.Dense(4, activation='softmax')\n",
    "])\n",
    "\n",
    "# Compile the model\n",
    "model_4.compile(optimizer=tf.keras.optimizers.Adam(learning_rate=0.0001),\n",
    "                loss='categorical_crossentropy',\n",
    "                metrics=['accuracy'])\n",
    "\n",
    "# Early stopping\n",
    "early_stopping = EarlyStopping(monitor='val_loss', patience=3)\n",
    "\n",
    "# Train the model\n",
    "history_4 = model_4.fit(\n",
    "    train_generator,\n",
    "    epochs=10,\n",
    "    validation_data=validation_generator,\n",
    "    class_weight=class_weight_indices\n",
    ")"
   ]
  },
  {
   "cell_type": "code",
   "execution_count": 17,
   "id": "d3045ccc-ae32-4a8b-a9fe-4e3263ab91c1",
   "metadata": {},
   "outputs": [
    {
     "name": "stdout",
     "output_type": "stream",
     "text": [
      "Epoch 1/20\n",
      "82/82 [==============================] - 30s 334ms/step - loss: 1.4705 - mae: 0.3543 - accuracy: 0.3281 - val_loss: 1.3084 - val_mae: 0.3412 - val_accuracy: 0.3850\n",
      "Epoch 2/20\n",
      "82/82 [==============================] - 25s 309ms/step - loss: 1.2526 - mae: 0.3264 - accuracy: 0.4273 - val_loss: 1.2191 - val_mae: 0.3257 - val_accuracy: 0.4310\n",
      "Epoch 3/20\n",
      "82/82 [==============================] - 24s 288ms/step - loss: 1.0912 - mae: 0.2981 - accuracy: 0.5241 - val_loss: 1.0943 - val_mae: 0.2988 - val_accuracy: 0.5506\n",
      "Epoch 4/20\n",
      "82/82 [==============================] - 24s 287ms/step - loss: 1.0369 - mae: 0.2837 - accuracy: 0.5651 - val_loss: 1.1274 - val_mae: 0.3020 - val_accuracy: 0.5169\n",
      "Epoch 5/20\n",
      "82/82 [==============================] - 24s 293ms/step - loss: 0.9506 - mae: 0.2656 - accuracy: 0.6018 - val_loss: 1.0563 - val_mae: 0.2889 - val_accuracy: 0.5567\n",
      "Epoch 6/20\n",
      "82/82 [==============================] - 24s 288ms/step - loss: 0.9035 - mae: 0.2534 - accuracy: 0.6378 - val_loss: 1.0379 - val_mae: 0.2817 - val_accuracy: 0.5567\n",
      "Epoch 7/20\n",
      "82/82 [==============================] - 24s 288ms/step - loss: 0.8695 - mae: 0.2471 - accuracy: 0.6462 - val_loss: 0.9969 - val_mae: 0.2709 - val_accuracy: 0.5905\n",
      "Epoch 8/20\n",
      "82/82 [==============================] - 24s 288ms/step - loss: 0.8288 - mae: 0.2368 - accuracy: 0.6723 - val_loss: 0.9955 - val_mae: 0.2692 - val_accuracy: 0.6012\n",
      "Epoch 9/20\n",
      "82/82 [==============================] - 24s 288ms/step - loss: 0.7969 - mae: 0.2290 - accuracy: 0.6769 - val_loss: 0.9646 - val_mae: 0.2595 - val_accuracy: 0.6104\n",
      "Epoch 10/20\n",
      "82/82 [==============================] - 24s 290ms/step - loss: 0.7704 - mae: 0.2208 - accuracy: 0.7006 - val_loss: 0.9756 - val_mae: 0.2600 - val_accuracy: 0.6089\n",
      "Epoch 11/20\n",
      "82/82 [==============================] - 24s 292ms/step - loss: 0.7690 - mae: 0.2188 - accuracy: 0.7064 - val_loss: 0.9424 - val_mae: 0.2529 - val_accuracy: 0.5874\n",
      "Epoch 12/20\n",
      "82/82 [==============================] - 24s 290ms/step - loss: 0.7348 - mae: 0.2117 - accuracy: 0.7025 - val_loss: 0.9245 - val_mae: 0.2486 - val_accuracy: 0.6304\n",
      "Epoch 13/20\n",
      "82/82 [==============================] - 24s 289ms/step - loss: 0.7241 - mae: 0.2087 - accuracy: 0.7224 - val_loss: 0.9260 - val_mae: 0.2449 - val_accuracy: 0.6196\n",
      "Epoch 14/20\n",
      "82/82 [==============================] - 24s 290ms/step - loss: 0.7061 - mae: 0.2034 - accuracy: 0.7270 - val_loss: 0.9125 - val_mae: 0.2449 - val_accuracy: 0.6150\n",
      "Epoch 15/20\n",
      "82/82 [==============================] - 24s 290ms/step - loss: 0.7010 - mae: 0.2012 - accuracy: 0.7255 - val_loss: 0.9185 - val_mae: 0.2423 - val_accuracy: 0.6288\n",
      "Epoch 16/20\n",
      "82/82 [==============================] - 24s 291ms/step - loss: 0.6784 - mae: 0.1963 - accuracy: 0.7393 - val_loss: 0.9339 - val_mae: 0.2433 - val_accuracy: 0.6212\n",
      "Epoch 17/20\n",
      "82/82 [==============================] - 24s 288ms/step - loss: 0.6661 - mae: 0.1936 - accuracy: 0.7481 - val_loss: 0.9350 - val_mae: 0.2399 - val_accuracy: 0.6396\n",
      "Epoch 18/20\n",
      "82/82 [==============================] - 24s 291ms/step - loss: 0.6614 - mae: 0.1900 - accuracy: 0.7511 - val_loss: 0.9388 - val_mae: 0.2364 - val_accuracy: 0.6411\n",
      "Epoch 19/20\n",
      "82/82 [==============================] - 24s 293ms/step - loss: 0.6605 - mae: 0.1891 - accuracy: 0.7435 - val_loss: 0.9204 - val_mae: 0.2368 - val_accuracy: 0.6549\n",
      "Epoch 20/20\n",
      "82/82 [==============================] - 24s 289ms/step - loss: 0.6350 - mae: 0.1855 - accuracy: 0.7492 - val_loss: 0.9063 - val_mae: 0.2365 - val_accuracy: 0.6288\n"
     ]
    }
   ],
   "source": [
    "# Set random seed\n",
    "tf.random.set_seed(42)\n",
    "\n",
    "# Load MobileNetV2\n",
    "base_model = tf.keras.applications.MobileNetV2(input_shape=(128,128,3), \n",
    "                                               include_top=False, \n",
    "                                               weights=\"imagenet\")\n",
    "base_model.trainable = False\n",
    "\n",
    "# Create a new model with custom layers\n",
    "model_5 = tf.keras.Sequential([\n",
    "    base_model,\n",
    "    tf.keras.layers.GlobalAveragePooling2D(),\n",
    "    tf.keras.layers.Dropout(0.2),\n",
    "    tf.keras.layers.Dense(4, activation='softmax')\n",
    "])\n",
    "\n",
    "# Compile the model with a smaller learning rate\n",
    "model_5.compile(optimizer=tf.keras.optimizers.Adam(learning_rate=0.0001), \n",
    "                loss='categorical_crossentropy', \n",
    "                metrics=['mae', 'accuracy'])\n",
    "\n",
    "# Train the model with class weights\n",
    "history_5 = model_5.fit(train_generator, \n",
    "                        epochs=20, \n",
    "                        validation_data=validation_generator, \n",
    "                        class_weight=class_weight_indices)"
   ]
  },
  {
   "cell_type": "code",
   "execution_count": 27,
   "id": "5036c133-1284-42f7-9f44-b894eb7b86dc",
   "metadata": {},
   "outputs": [
    {
     "name": "stdout",
     "output_type": "stream",
     "text": [
      "Epoch 1/15\n",
      "82/82 [==============================] - 18s 195ms/step - loss: 1.6130 - mae: 0.3585 - accuracy: 0.3151 - precision_7: 0.3210 - recall_7: 0.1593 - val_loss: 1.6322 - val_mae: 0.3535 - val_accuracy: 0.3374 - val_precision_7: 0.3520 - val_recall_7: 0.2117\n",
      "Epoch 2/15\n",
      "82/82 [==============================] - 15s 184ms/step - loss: 1.1748 - mae: 0.3050 - accuracy: 0.4858 - precision_7: 0.5742 - recall_7: 0.3185 - val_loss: 1.4898 - val_mae: 0.3326 - val_accuracy: 0.3558 - val_precision_7: 0.4005 - val_recall_7: 0.2684\n",
      "Epoch 3/15\n",
      "82/82 [==============================] - 15s 188ms/step - loss: 0.9622 - mae: 0.2636 - accuracy: 0.6095 - precision_7: 0.6960 - recall_7: 0.4609 - val_loss: 1.3965 - val_mae: 0.3131 - val_accuracy: 0.4187 - val_precision_7: 0.4426 - val_recall_7: 0.3313\n",
      "Epoch 4/15\n",
      "82/82 [==============================] - 15s 188ms/step - loss: 0.8397 - mae: 0.2347 - accuracy: 0.6646 - precision_7: 0.7496 - recall_7: 0.5582 - val_loss: 1.2766 - val_mae: 0.2950 - val_accuracy: 0.4663 - val_precision_7: 0.4978 - val_recall_7: 0.3543\n",
      "Epoch 5/15\n",
      "82/82 [==============================] - 15s 188ms/step - loss: 0.7667 - mae: 0.2166 - accuracy: 0.6956 - precision_7: 0.7671 - recall_7: 0.6003 - val_loss: 1.1912 - val_mae: 0.2846 - val_accuracy: 0.4693 - val_precision_7: 0.5190 - val_recall_7: 0.3773\n",
      "Epoch 6/15\n",
      "82/82 [==============================] - 15s 187ms/step - loss: 0.7218 - mae: 0.2032 - accuracy: 0.7121 - precision_7: 0.7764 - recall_7: 0.6355 - val_loss: 1.0818 - val_mae: 0.2674 - val_accuracy: 0.5307 - val_precision_7: 0.5890 - val_recall_7: 0.4417\n",
      "Epoch 7/15\n",
      "82/82 [==============================] - 15s 188ms/step - loss: 0.6845 - mae: 0.1939 - accuracy: 0.7316 - precision_7: 0.7919 - recall_7: 0.6543 - val_loss: 1.0401 - val_mae: 0.2600 - val_accuracy: 0.5460 - val_precision_7: 0.5748 - val_recall_7: 0.4479\n",
      "Epoch 8/15\n",
      "82/82 [==============================] - 15s 188ms/step - loss: 0.6478 - mae: 0.1850 - accuracy: 0.7431 - precision_7: 0.7968 - recall_7: 0.6742 - val_loss: 0.9936 - val_mae: 0.2439 - val_accuracy: 0.5920 - val_precision_7: 0.6600 - val_recall_7: 0.5031\n",
      "Epoch 9/15\n",
      "82/82 [==============================] - 16s 190ms/step - loss: 0.6142 - mae: 0.1769 - accuracy: 0.7573 - precision_7: 0.8133 - recall_7: 0.7002 - val_loss: 0.9505 - val_mae: 0.2363 - val_accuracy: 0.6150 - val_precision_7: 0.6738 - val_recall_7: 0.5322\n",
      "Epoch 10/15\n",
      "82/82 [==============================] - 15s 188ms/step - loss: 0.5798 - mae: 0.1685 - accuracy: 0.7703 - precision_7: 0.8177 - recall_7: 0.7159 - val_loss: 0.9258 - val_mae: 0.2325 - val_accuracy: 0.6227 - val_precision_7: 0.6769 - val_recall_7: 0.5399\n",
      "Epoch 11/15\n",
      "82/82 [==============================] - 15s 188ms/step - loss: 0.5772 - mae: 0.1659 - accuracy: 0.7703 - precision_7: 0.8153 - recall_7: 0.7182 - val_loss: 0.8625 - val_mae: 0.2204 - val_accuracy: 0.6442 - val_precision_7: 0.6937 - val_recall_7: 0.5767\n",
      "Epoch 12/15\n",
      "82/82 [==============================] - 15s 187ms/step - loss: 0.5528 - mae: 0.1597 - accuracy: 0.7860 - precision_7: 0.8327 - recall_7: 0.7355 - val_loss: 0.8187 - val_mae: 0.2136 - val_accuracy: 0.6518 - val_precision_7: 0.7091 - val_recall_7: 0.5982\n",
      "Epoch 13/15\n",
      "82/82 [==============================] - 15s 186ms/step - loss: 0.5458 - mae: 0.1579 - accuracy: 0.7917 - precision_7: 0.8317 - recall_7: 0.7397 - val_loss: 0.8154 - val_mae: 0.2067 - val_accuracy: 0.6856 - val_precision_7: 0.7597 - val_recall_7: 0.6304\n",
      "Epoch 14/15\n",
      "82/82 [==============================] - 15s 187ms/step - loss: 0.5351 - mae: 0.1555 - accuracy: 0.7925 - precision_7: 0.8366 - recall_7: 0.7450 - val_loss: 0.8013 - val_mae: 0.2019 - val_accuracy: 0.7040 - val_precision_7: 0.7382 - val_recall_7: 0.6227\n",
      "Epoch 15/15\n",
      "82/82 [==============================] - 15s 187ms/step - loss: 0.5230 - mae: 0.1504 - accuracy: 0.7925 - precision_7: 0.8338 - recall_7: 0.7435 - val_loss: 0.7831 - val_mae: 0.1963 - val_accuracy: 0.7040 - val_precision_7: 0.7460 - val_recall_7: 0.6396\n"
     ]
    }
   ],
   "source": [
    "# Set random seed\n",
    "tf.random.set_seed(42)\n",
    "\n",
    "# Load MobileNetV2\n",
    "base_model = tf.keras.applications.MobileNetV2(input_shape=(128,128,3), \n",
    "                                               include_top=False, \n",
    "                                               weights=\"imagenet\")\n",
    "\n",
    "# Unfreeze the base model\n",
    "base_model.trainable = True\n",
    "\n",
    "# Freeze all layers except for the last 10\n",
    "for layer in base_model.layers[:-10]:\n",
    "    layer.trainable = False\n",
    "\n",
    "# Create a new model with custom layers\n",
    "model_6 = tf.keras.Sequential([\n",
    "    base_model,\n",
    "    tf.keras.layers.GlobalAveragePooling2D(),\n",
    "    tf.keras.layers.Dropout(0.2),\n",
    "    tf.keras.layers.Dense(4, activation='softmax')\n",
    "])\n",
    "\n",
    "# Compile the model with a smaller learning rate\n",
    "model_6.compile(optimizer=tf.keras.optimizers.Adam(learning_rate=0.00001), \n",
    "                loss='categorical_crossentropy', \n",
    "                metrics=[\n",
    "                    'mae', \n",
    "                    'accuracy', \n",
    "                    tf.keras.metrics.Precision(), \n",
    "                    tf.keras.metrics.Recall()\n",
    "                ])\n",
    "\n",
    "# Continue training\n",
    "history_6 = model_6.fit(train_generator, \n",
    "                             epochs=15, \n",
    "                             validation_data=validation_generator, \n",
    "                             class_weight=class_weight_indices)"
   ]
  },
  {
   "cell_type": "markdown",
   "id": "429fbf2f-5abe-4942-8752-df46595c2901",
   "metadata": {},
   "source": [
    "## Confusion Matrix"
   ]
  },
  {
   "cell_type": "code",
   "execution_count": 51,
   "id": "b3ef54b9-5c9e-4459-9284-c32948d8e455",
   "metadata": {},
   "outputs": [
    {
     "name": "stdout",
     "output_type": "stream",
     "text": [
      "21/21 [==============================] - 3s 130ms/step\n"
     ]
    }
   ],
   "source": [
    "# Predict using the validation generator\n",
    "validation_generator.reset() # To ensure it's starting from the beginning\n",
    "predictions = model_6.predict(validation_generator, steps=len(validation_generator))\n",
    "predicted_classes = np.argmax(predictions, axis=1)\n",
    "\n",
    "# Get the true labels\n",
    "true_classes = validation_generator.classes\n",
    "class_labels = list(validation_generator.class_indices.keys())\n",
    "\n",
    "# Compute confusion matrix\n",
    "cm = confusion_matrix(true_classes, predicted_classes)"
   ]
  },
  {
   "cell_type": "code",
   "execution_count": 52,
   "id": "bd725513-7498-4fd3-9011-a5fe174c0ae6",
   "metadata": {},
   "outputs": [
    {
     "data": {
      "image/png": "[encoded data removed]",
      "text/plain": [
       "<Figure size 1500x700 with 2 Axes>"
      ]
     },
     "metadata": {},
     "output_type": "display_data"
    }
   ],
   "source": [
    "plt.figure(figsize=(15,7))\n",
    "sns.heatmap(cm, annot=True, fmt='d', cmap='Blues')\n",
    "plt.ylabel('True Labels')\n",
    "plt.xlabel('Predicted Labels')\n",
    "plt.show()"
   ]
  },
  {
   "cell_type": "code",
   "execution_count": 53,
   "id": "a0457797-695b-4885-8134-5f7912dca627",
   "metadata": {},
   "outputs": [
    {
     "name": "stdout",
     "output_type": "stream",
     "text": [
      "                  precision    recall  f1-score   support\n",
      "\n",
      "    glioma_tumor       0.73      0.85      0.79       185\n",
      "meningioma_tumor       0.66      0.65      0.65       187\n",
      "        no_tumor       0.67      0.52      0.58       100\n",
      " pituitary_tumor       0.75      0.71      0.73       180\n",
      "\n",
      "        accuracy                           0.71       652\n",
      "       macro avg       0.70      0.68      0.69       652\n",
      "    weighted avg       0.70      0.71      0.70       652\n",
      "\n"
     ]
    }
   ],
   "source": [
    "print(classification_report(true_classes, predicted_classes, target_names=class_indices.keys()))"
   ]
  },
  {
   "cell_type": "code",
   "execution_count": 59,
   "id": "070d8e48-410f-4c7b-bf10-81a3748712d9",
   "metadata": {},
   "outputs": [
    {
     "name": "stdout",
     "output_type": "stream",
     "text": [
      "{'glioma_tumor': 0, 'meningioma_tumor': 1, 'no_tumor': 2, 'pituitary_tumor': 3}\n"
     ]
    }
   ],
   "source": [
    "print(validation_generator.class_indices)"
   ]
  }
 ],
 "metadata": {
  "kernelspec": {
   "display_name": "Python 3 (ipykernel)",
   "language": "python",
   "name": "python3"
  },
  "language_info": {
   "codemirror_mode": {
    "name": "ipython",
    "version": 3
   },
   "file_extension": ".py",
   "mimetype": "text/x-python",
   "name": "python",
   "nbconvert_exporter": "python",
   "pygments_lexer": "ipython3",
   "version": "3.11.4"
  }
 },
 "nbformat": 4,
 "nbformat_minor": 5
}
