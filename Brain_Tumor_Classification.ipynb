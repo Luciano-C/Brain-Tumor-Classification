{
 "cells": [
  {
   "cell_type": "code",
   "execution_count": 1,
   "id": "2462d890-c1ac-4555-82c2-a91e0123d65a",
   "metadata": {},
   "outputs": [],
   "source": [
    "import pandas as pd\n",
    "import numpy as np\n",
    "import tensorflow as tf\n",
    "from tensorflow.keras import layers, models\n",
    "from tensorflow.keras.preprocessing.image import ImageDataGenerator\n",
    "from PIL import Image"
   ]
  },
  {
   "cell_type": "code",
   "execution_count": 2,
   "id": "1d63cb27-05b0-47d8-8251-c7a1e0c5a410",
   "metadata": {},
   "outputs": [
    {
     "name": "stdout",
     "output_type": "stream",
     "text": [
      "Found 2870 images belonging to 4 classes.\n"
     ]
    }
   ],
   "source": [
    "# Load and preprocess data\n",
    "train_datagen = ImageDataGenerator(rescale=1./255)\n",
    "train_generator = train_datagen.flow_from_directory(\n",
    "    'data/Training',\n",
    "    target_size=(150, 150),\n",
    "    batch_size=32,\n",
    "    class_mode='categorical')"
   ]
  },
  {
   "cell_type": "code",
   "execution_count": 14,
   "id": "274b01ea-f198-4289-8e45-e35c3c46f6bf",
   "metadata": {},
   "outputs": [
    {
     "name": "stdout",
     "output_type": "stream",
     "text": [
      "90\n"
     ]
    }
   ],
   "source": [
    "print(len(train_generator))"
   ]
  },
  {
   "cell_type": "code",
   "execution_count": 4,
   "id": "4aec3b8c-ff49-470b-ad73-122a7c4e5dec",
   "metadata": {},
   "outputs": [
    {
     "name": "stdout",
     "output_type": "stream",
     "text": [
      "Label: [0. 1. 0. 0.]\n"
     ]
    }
   ],
   "source": [
    "# Get a batch of images and labels\n",
    "images, labels = train_generator[0]\n",
    "\n",
    "# Get the first image and label from the batch\n",
    "first_image = images[0]\n",
    "first_label = labels[0]\n",
    "\n",
    "# Convert the image array to a Pillow Image\n",
    "first_image = Image.fromarray((first_image * 255).astype('uint8'))\n",
    "\n",
    "# Show the image\n",
    "#first_image.show()\n",
    "\n",
    "# Print the label\n",
    "print(f'Label: {first_label}')\n"
   ]
  },
  {
   "cell_type": "code",
   "execution_count": 7,
   "id": "cc23d26c-6c9a-4df6-9e4c-a7a1dc846bfa",
   "metadata": {},
   "outputs": [
    {
     "name": "stdout",
     "output_type": "stream",
     "text": [
      "Image Shape: (150, 150, 3)\n",
      "Number of Batches per Epoch: 90\n",
      "Total Number of Samples: 2870\n",
      "Batch Size: 32\n"
     ]
    }
   ],
   "source": [
    "# Get the shape of the images\n",
    "image_shape = train_generator.image_shape\n",
    "print(f'Image Shape: {image_shape}')\n",
    "\n",
    "# Get the number of batches per epoch\n",
    "num_batches = len(train_generator)\n",
    "print(f'Number of Batches per Epoch: {num_batches}')\n",
    "\n",
    "# Get the total number of samples\n",
    "num_samples = train_generator.n\n",
    "print(f'Total Number of Samples: {num_samples}')\n",
    "\n",
    "# Get the batch size\n",
    "batch_size = train_generator.batch_size\n",
    "print(f'Batch Size: {batch_size}')"
   ]
  },
  {
   "cell_type": "code",
   "execution_count": 13,
   "id": "f3647118-1119-4e06-a851-2e04713b4ceb",
   "metadata": {},
   "outputs": [
    {
     "name": "stdout",
     "output_type": "stream",
     "text": [
      "[[[0.         0.         0.        ]\n",
      "  [0.         0.         0.        ]\n",
      "  [0.         0.         0.        ]\n",
      "  ...\n",
      "  [0.         0.         0.        ]\n",
      "  [0.         0.         0.        ]\n",
      "  [0.         0.         0.        ]]\n",
      "\n",
      " [[0.00392157 0.00392157 0.00392157]\n",
      "  [0.00392157 0.00392157 0.00392157]\n",
      "  [0.00392157 0.00392157 0.00392157]\n",
      "  ...\n",
      "  [0.00784314 0.00784314 0.00784314]\n",
      "  [0.00784314 0.00784314 0.00784314]\n",
      "  [0.00784314 0.00784314 0.00784314]]\n",
      "\n",
      " [[0.00392157 0.00392157 0.00392157]\n",
      "  [0.01176471 0.01176471 0.01176471]\n",
      "  [0.01176471 0.01176471 0.01176471]\n",
      "  ...\n",
      "  [0.01176471 0.01176471 0.01176471]\n",
      "  [0.01568628 0.01568628 0.01568628]\n",
      "  [0.00784314 0.00784314 0.00784314]]\n",
      "\n",
      " ...\n",
      "\n",
      " [[0.00784314 0.00784314 0.00784314]\n",
      "  [0.00784314 0.00784314 0.00784314]\n",
      "  [0.01176471 0.01176471 0.01176471]\n",
      "  ...\n",
      "  [0.01568628 0.01568628 0.01568628]\n",
      "  [0.01176471 0.01176471 0.01176471]\n",
      "  [0.00784314 0.00784314 0.00784314]]\n",
      "\n",
      " [[0.00784314 0.00784314 0.00784314]\n",
      "  [0.00784314 0.00784314 0.00784314]\n",
      "  [0.00784314 0.00784314 0.00784314]\n",
      "  ...\n",
      "  [0.00784314 0.00784314 0.00784314]\n",
      "  [0.00784314 0.00784314 0.00784314]\n",
      "  [0.00784314 0.00784314 0.00784314]]\n",
      "\n",
      " [[0.         0.         0.        ]\n",
      "  [0.         0.         0.        ]\n",
      "  [0.         0.         0.        ]\n",
      "  ...\n",
      "  [0.         0.         0.        ]\n",
      "  [0.         0.         0.        ]\n",
      "  [0.         0.         0.        ]]]\n"
     ]
    }
   ],
   "source": [
    "sample_image = images[10]\n",
    "print(sample_image)"
   ]
  },
  {
   "cell_type": "code",
   "execution_count": null,
   "id": "83135d6e-6983-480a-bdd3-b69e0e2cb1e5",
   "metadata": {},
   "outputs": [],
   "source": []
  },
  {
   "cell_type": "code",
   "execution_count": null,
   "id": "6b9db9ba-b9c9-453e-8136-265086d75a60",
   "metadata": {},
   "outputs": [],
   "source": []
  }
 ],
 "metadata": {
  "kernelspec": {
   "display_name": "Python 3 (ipykernel)",
   "language": "python",
   "name": "python3"
  },
  "language_info": {
   "codemirror_mode": {
    "name": "ipython",
    "version": 3
   },
   "file_extension": ".py",
   "mimetype": "text/x-python",
   "name": "python",
   "nbconvert_exporter": "python",
   "pygments_lexer": "ipython3",
   "version": "3.11.4"
  }
 },
 "nbformat": 4,
 "nbformat_minor": 5
}
